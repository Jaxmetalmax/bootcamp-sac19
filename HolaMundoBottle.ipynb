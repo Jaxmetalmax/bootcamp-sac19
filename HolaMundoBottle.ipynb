{
 "cells": [
  {
   "cell_type": "markdown",
   "metadata": {},
   "source": [
    "# Hola mundo\n",
    "```\n",
    "from bottle import route, run\n",
    "\n",
    "@route('/hola')\n",
    "def hello():\n",
    "    return \"Hola mundo!\"\n",
    "\n",
    "run(host='localhost', port=8080, debug=True)\n",
    "```"
   ]
  },
  {
   "cell_type": "code",
   "execution_count": null,
   "metadata": {},
   "outputs": [],
   "source": [
    "from bottle import route, run\n",
    "\n",
    "@route('/hola')\n",
    "def hello():\n",
    "    return \"Hola mundo!\"\n",
    "\n",
    "run(host='0.0.0.0', port=3000, debug=True)"
   ]
  },
  {
   "cell_type": "markdown",
   "metadata": {},
   "source": [
    "route() es un decorador que conecta una funcion a una URL, en este caso conectamos la ruta /hola a la función hello(). Esto es llamado una ruta, y es uno de los conceptos mas importantes de este framework. Se pueden definir tantas rutas como sean necesarias, y cuando desde un navegador solicite una URL, la función asociada a esa ruta será ejecutada y responderá al navegador."
   ]
  },
  {
   "cell_type": "markdown",
   "metadata": {},
   "source": [
    "La función run() en las ultimas lineas inicia el servidor web de desarrollo, este se ejecuta en local en el puerto 8080(puede definirse el puerto), y responde a las solicitudes hasta que presionamos ctrl-c. Podemos cambiar el servidor, esto en caso de llevar a \"producción\" nuestra aplicación, pero para desarrollo con las opciones default nos es suficiente, no necesita instalarse y es lo mas sencillo para probar nuestra aplicación."
   ]
  },
  {
   "cell_type": "markdown",
   "metadata": {},
   "source": [
    "## La aplicacion default\n",
    "\n",
    "Podemos observar en el ejemplo que usamos el decorador route() para definir las rutas, esto añade las rutas a nuestra aplicacion default, una instancia que se crea la primera vez que usamos el decorador route(), pero para seguir un enfoque mas orientado a objetos, crearemos primero la instancia de la aplicacion y añadiremos estas rutas a nuestra instancia explicitamente."
   ]
  },
  {
   "cell_type": "code",
   "execution_count": null,
   "metadata": {},
   "outputs": [],
   "source": [
    "from bottle import Bottle, run\n",
    "\n",
    "app = Bottle()\n",
    "\n",
    "@app.route('/hola')\n",
    "def hello():\n",
    "    return \"Hola mundo!\"\n",
    "\n",
    "run(app, host='0.0.0.0', port=3000, debug=True)"
   ]
  },
  {
   "cell_type": "markdown",
   "metadata": {},
   "source": [
    "## Añadiendo una ruta mas\n",
    "\n",
    "Podemos añadir mas de una ruta a una función, además podemos añadir \"comodines\"(wildcards) a la ruta para hacerla mas dinámica. Ademas veremos en acción el modulo template, donde nuestra función regresará un valor y será reemplazado en nuestro HTML"
   ]
  },
  {
   "cell_type": "code",
   "execution_count": null,
   "metadata": {},
   "outputs": [],
   "source": [
    "from bottle import Bottle, run, template\n",
    "\n",
    "app = Bottle()\n",
    "\n",
    "@app.route('/')\n",
    "@app.route('/hola/<name>')\n",
    "def hello(name='Extraño'):\n",
    "    return template('Hola {{name}}, como estas?', name=name)\n",
    "\n",
    "run(app, host='0.0.0.0', port=3000, debug=True)"
   ]
  },
  {
   "cell_type": "markdown",
   "metadata": {},
   "source": [
    "## Un ejemplo de POST y GET\n",
    "\n",
    "Podemos ver un ejemplo de como manejar los diferentes verbos o metodos http con el ejemplo de un login sencillo:"
   ]
  },
  {
   "cell_type": "code",
   "execution_count": null,
   "metadata": {},
   "outputs": [],
   "source": [
    "from bottle import Bottle, run, template, request, redirect\n",
    "\n",
    "app = Bottle()\n",
    "\n",
    "@app.route('/')\n",
    "@app.route('/hola/<name>')\n",
    "def hello(name='Extraño'):\n",
    "    return template('Hola {{name}}, como estas?', name=name)\n",
    "\n",
    "@app.route('/loged/<name>')\n",
    "def loged(name='Extraño'):\n",
    "    return template('''You're in! {{name}} ''', name=name)\n",
    "\n",
    "def checkLogin(username, password):\n",
    "    isLogged = False\n",
    "    if username == 'max' and password == '123':\n",
    "        isLogged = True\n",
    "    return isLogged\n",
    "\n",
    "@app.route('/login', method='GET')\n",
    "def login():\n",
    "    isFailed = '0' if request.query.Failed == '' else request.query.Failed\n",
    "\n",
    "    formString = '''<form action=\"/login\" method=\"post\">\n",
    "            Username: <input name=\"username\" type=\"text\" />\n",
    "            Password: <input name=\"password\" type=\"password\" />\n",
    "            <input value=\"Login\" type=\"submit\" />\n",
    "        </form>\n",
    "    '''\n",
    "    \n",
    "    if int(isFailed) == 1:\n",
    "        return '<p><strong>Login failed!</p>'+formString\n",
    "    else:\n",
    "        return formString\n",
    "\n",
    "@app.post('/login') # or @route('/login', method='POST')\n",
    "def do_login():\n",
    "    username = request.forms.get('username')\n",
    "    password = request.forms.get('password')\n",
    "    if checkLogin(username, password):\n",
    "        redirect(f\"/loged/{username}\")\n",
    "    else:\n",
    "        redirect(\"/login?Failed=1\")\n",
    "        \n",
    "run(app, host='0.0.0.0', port=3000, debug=True)"
   ]
  },
  {
   "cell_type": "markdown",
   "metadata": {},
   "source": [
    "<a rel=\"license\" href=\"http://creativecommons.org/licenses/by-sa/4.0/\"><img alt=\"Licencia Creative Commons\" style=\"border-width:0\" src=\"https://i.creativecommons.org/l/by-sa/4.0/88x31.png\" /></a><br />Esta obra está bajo una <a rel=\"license\" href=\"http://creativecommons.org/licenses/by-sa/4.0/\">Licencia Creative Commons Atribución-CompartirIgual 4.0 Internacional</a>."
   ]
  }
 ],
 "metadata": {
  "kernelspec": {
   "display_name": "Python 3",
   "language": "python",
   "name": "python3"
  },
  "language_info": {
   "codemirror_mode": {
    "name": "ipython",
    "version": 3
   },
   "file_extension": ".py",
   "mimetype": "text/x-python",
   "name": "python",
   "nbconvert_exporter": "python",
   "pygments_lexer": "ipython3",
   "version": "3.6.9"
  }
 },
 "nbformat": 4,
 "nbformat_minor": 4
}
